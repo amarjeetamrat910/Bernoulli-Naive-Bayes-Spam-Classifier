{
 "cells": [
  {
   "cell_type": "code",
   "execution_count": 20,
   "id": "26835569",
   "metadata": {},
   "outputs": [
    {
     "name": "stdout",
     "output_type": "stream",
     "text": [
      "Text: \"Congratulations, you won a free ticket!\" -> Prediction: Spam\n",
      "Text: \"Can you call me back?\" -> Prediction: Not Spam\n",
      "Text: \"Exclusive offer just for you\" -> Prediction: Not Spam\n",
      "Text: \"Let's catch up soon\" -> Prediction: Spam\n",
      "Text: \"You are selected for a prize\" -> Prediction: Not Spam\n"
     ]
    },
    {
     "data": {
      "image/png": "[encoded data removed]",
      "text/plain": [
       "<Figure size 640x480 with 2 Axes>"
      ]
     },
     "metadata": {},
     "output_type": "display_data"
    }
   ],
   "source": [
    "import numpy as np\n",
    "import seaborn as sns\n",
    "from sklearn.feature_extraction.text import CountVectorizer\n",
    "from sklearn.model_selection import train_test_split\n",
    "from sklearn.naive_bayes import BernoulliNB\n",
    "from sklearn.metrics import accuracy_score, confusion_matrix\n",
    "\n",
    "documents = [\n",
    "    'Free money now!!!',\n",
    "    'Call me maybe',\n",
    "    'Win a million dollars',\n",
    "    'Hey, how are you?',\n",
    "    'Win big prizes!',\n",
    "    'Important information about your account',\n",
    "    'Free entry in a contest',\n",
    "    'Can we meet tomorrow?',\n",
    "    'You have won a lottery',\n",
    "    'Just checking in'\n",
    "]\n",
    "\n",
    "# Labels: 1 for spam, 0 for not spam\n",
    "labels = np.array([1, 0, 1, 0, 1, 0, 1, 0, 1, 0])\n",
    "\n",
    "vectorizer = CountVectorizer(binary=True)\n",
    "X = vectorizer.fit_transform(documents)\n",
    "\n",
    "X_train, X_test, y_train, y_test = train_test_split(X, labels, test_size=0.3, random_state=42)\n",
    "\n",
    "bnb = BernoulliNB()\n",
    "bnb.fit(X_train, y_train)\n",
    "\n",
    "y_pred = bnb.predict(X_test)\n",
    "\n",
    "\n",
    "\n",
    "\n",
    "conf_matrix = confusion_matrix(y_test, y_pred)\n",
    "sns.heatmap(conf_matrix,annot = True)\n",
    "\n",
    "\n",
    "new_documents = [\n",
    "    'Congratulations, you won a free ticket!',\n",
    "    'Can you call me back?',\n",
    "    'Exclusive offer just for you',\n",
    "    'Let\\'s catch up soon',\n",
    "    'You are selected for a prize'\n",
    "]\n",
    "\n",
    "X_new = vectorizer.transform(new_documents)\n",
    "\n",
    "new_predictions = bnb.predict(X_new)\n",
    "\n",
    "for doc, label in zip(new_documents, new_predictions):\n",
    "    print(f'Text: \"{doc}\" -> Prediction: {\"Spam\" if label == 1 else \"Not Spam\"}')\n"
   ]
  },
  {
   "cell_type": "code",
   "execution_count": null,
   "id": "7909b276",
   "metadata": {},
   "outputs": [],
   "source": []
  },
  {
   "cell_type": "code",
   "execution_count": null,
   "id": "e388334e",
   "metadata": {},
   "outputs": [],
   "source": []
  }
 ],
 "metadata": {
  "kernelspec": {
   "display_name": "Python 3 (ipykernel)",
   "language": "python",
   "name": "python3"
  },
  "language_info": {
   "codemirror_mode": {
    "name": "ipython",
    "version": 3
   },
   "file_extension": ".py",
   "mimetype": "text/x-python",
   "name": "python",
   "nbconvert_exporter": "python",
   "pygments_lexer": "ipython3",
   "version": "3.11.4"
  }
 },
 "nbformat": 4,
 "nbformat_minor": 5
}
